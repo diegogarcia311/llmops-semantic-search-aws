from langchain.chains import RetrievalQA
from langchain.vectorstores import FAISS
from langchain.embeddings import OpenAIEmbeddings
from langchain.llms import OpenAI

retriever = FAISS.load_local("faiss_index", OpenAIEmbeddings()).as_retriever()
chain = RetrievalQA.from_chain_type(llm=OpenAI(), retriever=retriever)

print(chain.run("What is the policy summary on flood coverage?"))
